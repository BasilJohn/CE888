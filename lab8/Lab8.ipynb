{
 "cells": [
  {
   "cell_type": "code",
   "execution_count": 17,
   "id": "4047fc47",
   "metadata": {},
   "outputs": [],
   "source": [
    "import numpy as np\n",
    "\n",
    "\n",
    "def activation_sigmoid(x):\n",
    "    # Implement the sigmoid function https://en.wikipedia.org/wiki/Sigmoid_function\n",
    "    z = np.exp(-x)\n",
    "    h = 1 / (1 + z)\n",
    "    return h\n",
    "\n",
    "\n",
    "\n",
    "def forward(sequence, W, U):\n",
    "    \"\"\" Forward step of a SimpleRNN layer.\n",
    "    # Assume that sequence is a rank-2 tensor of shape (timesteps, input_features)\n",
    "    # W, and U are rank-2 tensors of shape (output_feat, input_feat) and (output_feat, output_feat) respectively\n",
    "    \"\"\"\n",
    "    # 1. Initialise state as a list\n",
    "    state = [np.zeros(W.shape[0],)]\n",
    "    # 2. Iterate through the elements of the sequence. \n",
    "    # For each element, calculate the new state through the equation from slide 11 (using activation_sigmoid as the activation function) and append it to the state list\n",
    "    # Use np.dot to do the vector-matrix multiplications\n",
    "    prev_state=0\n",
    "    for input_t in sequence:\n",
    "        z1=np.dot(W,state[prev_state])\n",
    "        z2=np.dot(U,input_t)\n",
    "        output_t=activation_sigmoid(z1+z2)\n",
    "        state.append(output_t)\n",
    "        prev_state=prev_state+1\n",
    "    # 3. Return the final output\n",
    "    return np.stack(state, axis=0)\n"
   ]
  },
  {
   "cell_type": "code",
   "execution_count": 18,
   "id": "5a4f9d3c",
   "metadata": {},
   "outputs": [
    {
     "name": "stdout",
     "output_type": "stream",
     "text": [
      "(101, 64)\n"
     ]
    }
   ],
   "source": [
    "np.random.seed(23)\n",
    "\n",
    "timesteps = 100  # number of timesteps in the input sequence\n",
    "input_feat = 32  # number of features in the input\n",
    "output_feat = 64  # number of features in the output\n",
    "\n",
    "inputs = np.random.random((timesteps, input_feat))\n",
    "U = np.random.random((output_feat, input_feat))\n",
    "W = np.random.random((output_feat, output_feat))\n",
    "\n",
    "out = forward(inputs, W, U)\n",
    "print(out.shape)"
   ]
  },
  {
   "cell_type": "code",
   "execution_count": null,
   "id": "0a8f93bd",
   "metadata": {},
   "outputs": [],
   "source": []
  }
 ],
 "metadata": {
  "kernelspec": {
   "display_name": "Python 3 (ipykernel)",
   "language": "python",
   "name": "python3"
  },
  "language_info": {
   "codemirror_mode": {
    "name": "ipython",
    "version": 3
   },
   "file_extension": ".py",
   "mimetype": "text/x-python",
   "name": "python",
   "nbconvert_exporter": "python",
   "pygments_lexer": "ipython3",
   "version": "3.9.7"
  }
 },
 "nbformat": 4,
 "nbformat_minor": 5
}
